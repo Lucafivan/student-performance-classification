{
 "cells": [
  {
   "cell_type": "code",
   "execution_count": 5,
   "id": "ed63b33f",
   "metadata": {},
   "outputs": [],
   "source": [
    "import pandas as pd\n",
    "import joblib"
   ]
  },
  {
   "cell_type": "code",
   "execution_count": 6,
   "id": "ac807ae7",
   "metadata": {},
   "outputs": [],
   "source": [
    "def load_model(path):\n",
    "    return joblib.load(path)"
   ]
  },
  {
   "cell_type": "code",
   "execution_count": 7,
   "id": "3171dc0e",
   "metadata": {},
   "outputs": [],
   "source": [
    "def load_recommendation_data(path):\n",
    "    return pd.read_csv(path)"
   ]
  },
  {
   "cell_type": "code",
   "execution_count": 8,
   "id": "14ef50fc",
   "metadata": {},
   "outputs": [],
   "source": [
    "def grade_summary(df):\n",
    "    return df['Predicted_Grade'].value_counts()"
   ]
  },
  {
   "cell_type": "code",
   "execution_count": null,
   "id": "5fd8b016",
   "metadata": {},
   "outputs": [],
   "source": [
    "def get_reccomendation_by_student_id(df, student_id):\n",
    "    row = df[df['Student_ID'] == student_id]\n",
    "    if not row.empty:\n",
    "        return row[['predicted_grade', 'recommendation']].to_dict(orient='records')[0]\n",
    "    return {\"Message\" : \"Student ID Not Found\"}"
   ]
  }
 ],
 "metadata": {
  "kernelspec": {
   "display_name": ".venv",
   "language": "python",
   "name": "python3"
  },
  "language_info": {
   "codemirror_mode": {
    "name": "ipython",
    "version": 3
   },
   "file_extension": ".py",
   "mimetype": "text/x-python",
   "name": "python",
   "nbconvert_exporter": "python",
   "pygments_lexer": "ipython3",
   "version": "3.13.3"
  }
 },
 "nbformat": 4,
 "nbformat_minor": 5
}
