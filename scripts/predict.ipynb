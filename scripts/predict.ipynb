{
 "cells": [
  {
   "cell_type": "code",
   "execution_count": 6,
   "id": "0d8815a4",
   "metadata": {},
   "outputs": [],
   "source": [
    "import pandas as pd\n",
    "import joblib"
   ]
  },
  {
   "cell_type": "code",
   "execution_count": 7,
   "id": "d7609b42",
   "metadata": {},
   "outputs": [],
   "source": [
    "model = joblib.load('../models/student_grade_model.pkl')"
   ]
  },
  {
   "cell_type": "code",
   "execution_count": 8,
   "id": "4d3d9497",
   "metadata": {},
   "outputs": [],
   "source": [
    "df = pd.read_csv('../data/processed/preprocessed_data.csv')"
   ]
  },
  {
   "cell_type": "code",
   "execution_count": 9,
   "id": "3b0e76e1",
   "metadata": {},
   "outputs": [],
   "source": [
    "if 'Grade' in df.columns:\n",
    "    df = df.drop('Grade', axis=1)"
   ]
  },
  {
   "cell_type": "code",
   "execution_count": 10,
   "id": "facb75f6",
   "metadata": {},
   "outputs": [],
   "source": [
    "predictions = model.predict(df)"
   ]
  },
  {
   "cell_type": "code",
   "execution_count": 11,
   "id": "b89969c0",
   "metadata": {},
   "outputs": [],
   "source": [
    "df['predicted_grade'] = predictions"
   ]
  },
  {
   "cell_type": "code",
   "execution_count": 13,
   "id": "99d7d423",
   "metadata": {},
   "outputs": [],
   "source": [
    "df.to_csv('../data/processed/predicted_grades.csv', index=False)"
   ]
  },
  {
   "cell_type": "code",
   "execution_count": null,
   "id": "32fd5ede",
   "metadata": {},
   "outputs": [],
   "source": []
  }
 ],
 "metadata": {
  "kernelspec": {
   "display_name": ".venv",
   "language": "python",
   "name": "python3"
  },
  "language_info": {
   "codemirror_mode": {
    "name": "ipython",
    "version": 3
   },
   "file_extension": ".py",
   "mimetype": "text/x-python",
   "name": "python",
   "nbconvert_exporter": "python",
   "pygments_lexer": "ipython3",
   "version": "3.13.3"
  }
 },
 "nbformat": 4,
 "nbformat_minor": 5
}
