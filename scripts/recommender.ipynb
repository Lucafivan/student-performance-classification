{
 "cells": [
  {
   "cell_type": "code",
   "execution_count": 1,
   "id": "a946539b",
   "metadata": {},
   "outputs": [],
   "source": [
    "import pandas as pd"
   ]
  },
  {
   "cell_type": "code",
   "execution_count": 2,
   "id": "10d1bc2b",
   "metadata": {},
   "outputs": [],
   "source": [
    "df = pd.read_csv('../data/processed/predicted_grades.csv')"
   ]
  },
  {
   "cell_type": "code",
   "execution_count": 3,
   "id": "0cdb868c",
   "metadata": {},
   "outputs": [],
   "source": [
    "def generate_recommendation(grade):\n",
    "    if grade == 'A':\n",
    "        return \"Pertahankan performa! Fokus pada review dan bantu teman lain 💪\"\n",
    "    elif grade == 'B':\n",
    "        return \"Bagus! Tapi coba tingkatkan dengan latihan tambahan di topik lemah 📘\"\n",
    "    elif grade == 'C':\n",
    "        return \"Perlu peningkatan. Perbanyak latihan & ikuti kelompok belajar 📚\"\n",
    "    elif grade == 'D':\n",
    "        return \"Segera cari tutor atau diskusi bareng teman untuk topik sulit 🔍\"\n",
    "    elif grade == 'F':\n",
    "        return \"Jangan menyerah! Jadwalkan ulang belajar harian & fokus topik dasar 🚨\"\n",
    "    else:\n",
    "        return \"Belum ada prediksi grade\""
   ]
  },
  {
   "cell_type": "code",
   "execution_count": 4,
   "id": "2960f018",
   "metadata": {},
   "outputs": [],
   "source": [
    "df['recommendation'] = df['predicted_grade'].apply(generate_recommendation)"
   ]
  },
  {
   "cell_type": "code",
   "execution_count": null,
   "id": "fbab4929",
   "metadata": {},
   "outputs": [],
   "source": [
    "df.to_csv('../data/processed/recommendation_output.csv', index=False)"
   ]
  }
 ],
 "metadata": {
  "kernelspec": {
   "display_name": ".venv",
   "language": "python",
   "name": "python3"
  },
  "language_info": {
   "codemirror_mode": {
    "name": "ipython",
    "version": 3
   },
   "file_extension": ".py",
   "mimetype": "text/x-python",
   "name": "python",
   "nbconvert_exporter": "python",
   "pygments_lexer": "ipython3",
   "version": "3.13.3"
  }
 },
 "nbformat": 4,
 "nbformat_minor": 5
}
